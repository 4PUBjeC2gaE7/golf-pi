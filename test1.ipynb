{
 "cells": [
  {
   "cell_type": "code",
   "execution_count": 2,
   "id": "2d352bdb",
   "metadata": {},
   "outputs": [],
   "source": [
    "import cv2"
   ]
  },
  {
   "cell_type": "markdown",
   "id": "cba5f862",
   "metadata": {},
   "source": [
    "# Markdown\n",
    "markdown is a plain-text language that renders to HTML\n",
    "\n",
    "## Heading 2\n",
    "Markdown is great for taking notes"
   ]
  },
  {
   "cell_type": "code",
   "execution_count": 3,
   "id": "76bc31bd",
   "metadata": {},
   "outputs": [
    {
     "name": "stdout",
     "output_type": "stream",
     "text": [
      "30\n"
     ]
    }
   ],
   "source": [
    "b = 10\n",
    "c = 20\n",
    "\n",
    "a = b + c\n",
    "print(a)"
   ]
  },
  {
   "cell_type": "markdown",
   "id": "a0c17761",
   "metadata": {},
   "source": [
    "# New test\n",
    "I am going to try this new algorithm on something"
   ]
  },
  {
   "cell_type": "code",
   "execution_count": 4,
   "id": "a8a37e0c",
   "metadata": {},
   "outputs": [],
   "source": [
    "img = cv2.imread('test image.png')\n",
    "cv2.imshow('Original Image', img)\n",
    "\n",
    "# Edge detection using Canny\n",
    "edges = cv2.Canny(img, 100, 200)\n",
    "cv2.imshow('Edge Detection', edges)\n",
    "\n",
    "cv2.waitKey(0)\n",
    "cv2.destroyAllWindows()"
   ]
  },
  {
   "cell_type": "markdown",
   "id": "8011a992",
   "metadata": {},
   "source": [
    "# video\n",
    "[tutorial](https://docs.opencv.org/4.x/dd/d43/tutorial_py_video_display.html)"
   ]
  },
  {
   "cell_type": "code",
   "execution_count": 5,
   "id": "f2f98485",
   "metadata": {},
   "outputs": [
    {
     "name": "stdout",
     "output_type": "stream",
     "text": [
      "Can't receive frame (stream end?). Exiting ...\n"
     ]
    }
   ],
   "source": [
    "import numpy as np\n",
    "import cv2 \n",
    "\n",
    "cap = cv2.VideoCapture('samples/IMG_1115.MOV')\n",
    "\n",
    "while cap.isOpened():\n",
    "    ret, frame = cap.read()\n",
    "    if not ret:\n",
    "        print(\"Can't receive frame (stream end?). Exiting ...\")\n",
    "        break\n",
    "    dst = cv2.medianBlur(frame, 9)\n",
    "    edges = cv2.Canny(dst, 50, 150)\n",
    "    cv2.imshow('frame', edges)\n",
    "    if cv2.waitKey(20) == ord('q'):\n",
    "        break\n",
    "\n",
    "cap.release()\n",
    "cv2.destroyAllWindows()"
   ]
  }
 ],
 "metadata": {
  "kernelspec": {
   "display_name": ".venv",
   "language": "python",
   "name": "python3"
  },
  "language_info": {
   "codemirror_mode": {
    "name": "ipython",
    "version": 3
   },
   "file_extension": ".py",
   "mimetype": "text/x-python",
   "name": "python",
   "nbconvert_exporter": "python",
   "pygments_lexer": "ipython3",
   "version": "3.13.7"
  }
 },
 "nbformat": 4,
 "nbformat_minor": 5
}
