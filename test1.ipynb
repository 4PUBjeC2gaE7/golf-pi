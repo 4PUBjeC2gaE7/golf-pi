{
 "cells": [
  {
   "cell_type": "code",
   "execution_count": 1,
   "id": "2d352bdb",
   "metadata": {},
   "outputs": [],
   "source": [
    "import cv2"
   ]
  },
  {
   "cell_type": "markdown",
   "id": "cba5f862",
   "metadata": {},
   "source": [
    "# Markdown\n",
    "markdown is a plain-text language that renders to HTML\n",
    "\n",
    "## Heading 2\n",
    "Markdown is great for taking notes"
   ]
  },
  {
   "cell_type": "code",
   "execution_count": 6,
   "id": "76bc31bd",
   "metadata": {},
   "outputs": [
    {
     "name": "stdout",
     "output_type": "stream",
     "text": [
      "30\n"
     ]
    }
   ],
   "source": [
    "b = 10\n",
    "c = 20\n",
    "\n",
    "a = b + c\n",
    "print(a)"
   ]
  },
  {
   "cell_type": "markdown",
   "id": "a0c17761",
   "metadata": {},
   "source": [
    "# New test\n",
    "I am going to try this new algorithm on something"
   ]
  },
  {
   "cell_type": "code",
   "execution_count": 11,
   "id": "a8a37e0c",
   "metadata": {},
   "outputs": [],
   "source": [
    "img = cv2.imread('test image.png')\n",
    "cv2.imshow('Original Image', img)\n",
    "\n",
    "# Edge detection using Canny\n",
    "edges = cv2.Canny(img, 100, 200)\n",
    "cv2.imshow('Edge Detection', edges)\n",
    "\n",
    "cv2.waitKey(0)\n",
    "cv2.destroyAllWindows()"
   ]
  }
 ],
 "metadata": {
  "kernelspec": {
   "display_name": ".venv",
   "language": "python",
   "name": "python3"
  },
  "language_info": {
   "codemirror_mode": {
    "name": "ipython",
    "version": 3
   },
   "file_extension": ".py",
   "mimetype": "text/x-python",
   "name": "python",
   "nbconvert_exporter": "python",
   "pygments_lexer": "ipython3",
   "version": "3.13.1"
  }
 },
 "nbformat": 4,
 "nbformat_minor": 5
}
